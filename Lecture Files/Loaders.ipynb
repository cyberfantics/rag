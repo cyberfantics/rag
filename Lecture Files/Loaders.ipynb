{
 "cells": [
  {
   "cell_type": "markdown",
   "id": "e653983f-9759-40a4-865c-fd932230d9e3",
   "metadata": {},
   "source": [
    "## Retrieval\n",
    "- Many LLM applications require user-specific data that is not part of the model's training set. The primary way of accomplishing this is through Retrieval Augmented Generation (RAG). In this process, external data is retrieved and then passed to the LLM when doing the generation step.\n",
    "\n",
    "- LangChain provides all the building blocks for RAG applications - from simple to complex. This section of the documentation covers everything related to the retrieval step - e.g. the fetching of the data. Although this sounds simple, it can be subtly complex. This encompasses several key modules.\n",
    "\n",
    "## Document loaders\n",
    "- Document loaders load documents from many different sources. LangChain provides over 100 different document loaders as well as integrations with other major providers in the space, like AirByte and Unstructured. LangChain provides integrations to load all types of documents (HTML, PDF, code) from all types of locations (private S3 buckets, public websites)."
   ]
  },
  {
   "cell_type": "markdown",
   "id": "a2e0b373-b7f8-4d85-b1ec-ee17f10bcee0",
   "metadata": {},
   "source": [
    "### Install langchain"
   ]
  },
  {
   "cell_type": "code",
   "execution_count": 3,
   "id": "20915fd8-94c9-4679-b9d2-7188e9405c46",
   "metadata": {},
   "outputs": [],
   "source": [
    "# !pip install langchain\n",
    "# !pip install langchain_community"
   ]
  },
  {
   "cell_type": "code",
   "execution_count": null,
   "id": "1ef22b42-decf-40b0-9da4-8f9c5b766cfa",
   "metadata": {},
   "outputs": [],
   "source": []
  },
  {
   "cell_type": "markdown",
   "id": "e1244cb5-de0d-4552-978c-de9cbcfdb631",
   "metadata": {},
   "source": [
    "## PDF Loader"
   ]
  },
  {
   "cell_type": "markdown",
   "id": "b55bdc1a-1451-4a8c-aeee-25b8c83b399b",
   "metadata": {},
   "source": [
    "### pypdf\n",
    "- Load PDF using pypdf into array of documents, where each document contains the page content and metadata with page number"
   ]
  },
  {
   "cell_type": "code",
   "execution_count": 4,
   "id": "36722ef5-4d0b-4522-ba86-839a5789ac0a",
   "metadata": {},
   "outputs": [
    {
     "name": "stdout",
     "output_type": "stream",
     "text": [
      "Requirement already satisfied: pypdf in c:\\users\\mansoor\\appdata\\roaming\\python\\python312\\site-packages (4.3.1)\n"
     ]
    }
   ],
   "source": [
    "# !pip install pypdf"
   ]
  },
  {
   "cell_type": "code",
   "execution_count": 5,
   "id": "3fb4520a-3f9e-45f2-8034-7856d08d4f69",
   "metadata": {},
   "outputs": [],
   "source": [
    "from langchain_community.document_loaders import PyPDFLoader"
   ]
  },
  {
   "cell_type": "code",
   "execution_count": 6,
   "id": "80e3dcb3-a5ea-4ab6-866c-7030c8e546b9",
   "metadata": {},
   "outputs": [],
   "source": [
    "# Load file into loader\n",
    "loader = PyPDFLoader('dataset/patient health data analysis.pdf')"
   ]
  },
  {
   "cell_type": "markdown",
   "id": "691b88e6-a59a-4b97-995e-723c784b4193",
   "metadata": {},
   "source": [
    "#### Load file into pages using load() function"
   ]
  },
  {
   "cell_type": "code",
   "execution_count": 7,
   "id": "eb013a56-30a3-4e1e-ad7f-aa7221473438",
   "metadata": {},
   "outputs": [],
   "source": [
    "pages = loader.load()"
   ]
  },
  {
   "cell_type": "code",
   "execution_count": 8,
   "id": "daf4c3f8-4b59-4ef5-94d4-57f6a84f6fa3",
   "metadata": {},
   "outputs": [
    {
     "data": {
      "text/plain": [
       "33"
      ]
     },
     "execution_count": 8,
     "metadata": {},
     "output_type": "execute_result"
    }
   ],
   "source": [
    "# See total number of pages\n",
    "len(pages)"
   ]
  },
  {
   "cell_type": "code",
   "execution_count": 9,
   "id": "036e2b71-d580-4999-93dc-be97b091b8de",
   "metadata": {},
   "outputs": [],
   "source": [
    "# check first page\n",
    "page = pages[0]"
   ]
  },
  {
   "cell_type": "code",
   "execution_count": 10,
   "id": "08af4dc4-e74b-49eb-aeed-21c38451377c",
   "metadata": {},
   "outputs": [
    {
     "data": {
      "text/plain": [
       "Document(metadata={'source': 'dataset/patient health data analysis.pdf', 'page': 0}, page_content='Team Alpha\\n2024HEALTH\\nDATA ANALYSIS\\nARTIFICIAL\\nINTELLIGENCE\\nDATE :\\n24 August 2024PRESENTED TO :\\nSir Muhammad\\nRizwan')"
      ]
     },
     "execution_count": 10,
     "metadata": {},
     "output_type": "execute_result"
    }
   ],
   "source": [
    "page"
   ]
  },
  {
   "cell_type": "code",
   "execution_count": 16,
   "id": "849394ff-4a34-49a1-be59-e1ca7755379d",
   "metadata": {},
   "outputs": [],
   "source": [
    "# See metadata of pdf\n",
    "meta_data = page.metadata"
   ]
  },
  {
   "cell_type": "code",
   "execution_count": 17,
   "id": "72295516-bfd5-4024-a103-637e7b736062",
   "metadata": {},
   "outputs": [
    {
     "data": {
      "text/plain": [
       "{'source': 'dataset/patient health data analysis.pdf', 'page': 0}"
      ]
     },
     "execution_count": 17,
     "metadata": {},
     "output_type": "execute_result"
    }
   ],
   "source": [
    "meta_data"
   ]
  },
  {
   "cell_type": "code",
   "execution_count": 20,
   "id": "35f62c8a-c02d-49e6-8c4d-295573cfe3c4",
   "metadata": {},
   "outputs": [
    {
     "data": {
      "text/plain": [
       "'dataset/patient health data analysis.pdf'"
      ]
     },
     "execution_count": 20,
     "metadata": {},
     "output_type": "execute_result"
    }
   ],
   "source": [
    "# check the source of metadata\n",
    "meta_data['source']"
   ]
  },
  {
   "cell_type": "code",
   "execution_count": 21,
   "id": "0205fb4e-ed89-450f-b660-0cdd8f65d809",
   "metadata": {},
   "outputs": [],
   "source": [
    "# Lets see content of page\n",
    "content = page.page_content"
   ]
  },
  {
   "cell_type": "code",
   "execution_count": 22,
   "id": "7884b39a-7d88-4a1b-96e2-c5c04fc4ce3f",
   "metadata": {},
   "outputs": [
    {
     "data": {
      "text/plain": [
       "'Team Alpha\\n2024HEALTH\\nDATA ANALYSIS\\nARTIFICIAL\\nINTELLIGENCE\\nDATE :\\n24 August 2024PRESENTED TO :\\nSir Muhammad\\nRizwan'"
      ]
     },
     "execution_count": 22,
     "metadata": {},
     "output_type": "execute_result"
    }
   ],
   "source": [
    "content"
   ]
  },
  {
   "cell_type": "code",
   "execution_count": 23,
   "id": "c354cc6c-e592-4b9a-9406-fd21213de38b",
   "metadata": {},
   "outputs": [
    {
     "name": "stdout",
     "output_type": "stream",
     "text": [
      "Team Alpha\n",
      "2024HEALTH\n",
      "DATA ANALYSIS\n",
      "ARTIFICIAL\n",
      "INTELLIGENCE\n",
      "DATE :\n",
      "24 August 2024PRESENTED TO :\n",
      "Sir Muhammad\n",
      "Rizwan\n"
     ]
    }
   ],
   "source": [
    "print(content)"
   ]
  },
  {
   "cell_type": "markdown",
   "id": "89450122-3d42-4897-b809-c8afa8f97a30",
   "metadata": {},
   "source": [
    "#### Load file into pages using load_and_split()"
   ]
  },
  {
   "cell_type": "code",
   "execution_count": 24,
   "id": "2f509dc8-2a15-40b4-b6bb-cd6f0934077e",
   "metadata": {},
   "outputs": [],
   "source": [
    "pages = loader.load_and_split()"
   ]
  },
  {
   "cell_type": "code",
   "execution_count": 25,
   "id": "ef536c23-0a3a-421a-8d77-47cfd379da81",
   "metadata": {},
   "outputs": [
    {
     "data": {
      "text/plain": [
       "33"
      ]
     },
     "execution_count": 25,
     "metadata": {},
     "output_type": "execute_result"
    }
   ],
   "source": [
    "# see number of pages\n",
    "len(pages)"
   ]
  },
  {
   "cell_type": "code",
   "execution_count": 26,
   "id": "9ca047cc-44bd-4ce2-8aa7-6804744b005b",
   "metadata": {},
   "outputs": [],
   "source": [
    "# See page\n",
    "page = pages[0]"
   ]
  },
  {
   "cell_type": "code",
   "execution_count": 27,
   "id": "bfd34c10-7385-4204-9e6b-6ec8a3fd6b2f",
   "metadata": {},
   "outputs": [
    {
     "data": {
      "text/plain": [
       "Document(metadata={'source': 'dataset/patient health data analysis.pdf', 'page': 0}, page_content='Team Alpha\\n2024HEALTH\\nDATA ANALYSIS\\nARTIFICIAL\\nINTELLIGENCE\\nDATE :\\n24 August 2024PRESENTED TO :\\nSir Muhammad\\nRizwan')"
      ]
     },
     "execution_count": 27,
     "metadata": {},
     "output_type": "execute_result"
    }
   ],
   "source": [
    "page"
   ]
  },
  {
   "cell_type": "markdown",
   "id": "88cb85b9-fe5f-4cee-88cf-6bdeb09a7762",
   "metadata": {},
   "source": [
    "### An advantage of using PyPDFLoader is that it load pdf along with page number"
   ]
  },
  {
   "cell_type": "code",
   "execution_count": null,
   "id": "2e912c07-1354-464a-895f-c97bd3be706f",
   "metadata": {},
   "outputs": [],
   "source": []
  },
  {
   "cell_type": "markdown",
   "id": "455cbd01-ccf9-4876-af81-cf631e25f407",
   "metadata": {},
   "source": [
    "### Load pdf along with pages"
   ]
  },
  {
   "cell_type": "markdown",
   "id": "a29ca7d8-19b4-4525-ae00-93d6f848df25",
   "metadata": {},
   "source": [
    "**For loading images with pdf we need to install `pip install rapidocr-onnxruntime` this module**"
   ]
  },
  {
   "cell_type": "code",
   "execution_count": 32,
   "id": "d723155f-7269-4981-99ac-4e470bcac264",
   "metadata": {},
   "outputs": [],
   "source": [
    "# !pip install rapidocr-onnxruntime"
   ]
  },
  {
   "cell_type": "code",
   "execution_count": 33,
   "id": "3415ce5c-7b71-4cc3-bcb9-53865527726c",
   "metadata": {},
   "outputs": [],
   "source": [
    "loader = PyPDFLoader('dataset/patient health data analysis.pdf', extract_images=True)"
   ]
  },
  {
   "cell_type": "code",
   "execution_count": null,
   "id": "e811b864-a271-4e74-93c8-d868e536df82",
   "metadata": {},
   "outputs": [],
   "source": [
    "pages = loader.load()"
   ]
  },
  {
   "cell_type": "code",
   "execution_count": null,
   "id": "b3e6c80d-4505-4074-82a3-99cb3bda24ac",
   "metadata": {},
   "outputs": [],
   "source": [
    "page = pages[0]"
   ]
  },
  {
   "cell_type": "code",
   "execution_count": null,
   "id": "1edc3345-5977-4c81-a6e9-c50c520711b4",
   "metadata": {},
   "outputs": [],
   "source": [
    "page"
   ]
  },
  {
   "cell_type": "code",
   "execution_count": null,
   "id": "a5ccdc18-2307-4fcb-8530-d3dceb13a645",
   "metadata": {},
   "outputs": [],
   "source": []
  }
 ],
 "metadata": {
  "kernelspec": {
   "display_name": "Python 3 (ipykernel)",
   "language": "python",
   "name": "python3"
  },
  "language_info": {
   "codemirror_mode": {
    "name": "ipython",
    "version": 3
   },
   "file_extension": ".py",
   "mimetype": "text/x-python",
   "name": "python",
   "nbconvert_exporter": "python",
   "pygments_lexer": "ipython3",
   "version": "3.12.4"
  }
 },
 "nbformat": 4,
 "nbformat_minor": 5
}
