{
 "cells": [
  {
   "cell_type": "markdown",
   "id": "e653983f-9759-40a4-865c-fd932230d9e3",
   "metadata": {},
   "source": [
    "## Retrieval\n",
    "- Many LLM applications require user-specific data that is not part of the model's training set. The primary way of accomplishing this is through Retrieval Augmented Generation (RAG). In this process, external data is retrieved and then passed to the LLM when doing the generation step.\n",
    "\n",
    "- LangChain provides all the building blocks for RAG applications - from simple to complex. This section of the documentation covers everything related to the retrieval step - e.g. the fetching of the data. Although this sounds simple, it can be subtly complex. This encompasses several key modules.\n",
    "\n",
    "## Document loaders\n",
    "- Document loaders load documents from many different sources. LangChain provides over 100 different document loaders as well as integrations with other major providers in the space, like AirByte and Unstructured. LangChain provides integrations to load all types of documents (HTML, PDF, code) from all types of locations (private S3 buckets, public websites)."
   ]
  },
  {
   "cell_type": "markdown",
   "id": "a2e0b373-b7f8-4d85-b1ec-ee17f10bcee0",
   "metadata": {},
   "source": [
    "### Install langchain"
   ]
  },
  {
   "cell_type": "code",
   "execution_count": 3,
   "id": "20915fd8-94c9-4679-b9d2-7188e9405c46",
   "metadata": {},
   "outputs": [],
   "source": [
    "# !pip install langchain\n",
    "# !pip install langchain_community"
   ]
  },
  {
   "cell_type": "code",
   "execution_count": null,
   "id": "1ef22b42-decf-40b0-9da4-8f9c5b766cfa",
   "metadata": {},
   "outputs": [],
   "source": []
  },
  {
   "cell_type": "markdown",
   "id": "e1244cb5-de0d-4552-978c-de9cbcfdb631",
   "metadata": {},
   "source": [
    "## PDF Loader"
   ]
  },
  {
   "cell_type": "markdown",
   "id": "b55bdc1a-1451-4a8c-aeee-25b8c83b399b",
   "metadata": {},
   "source": [
    "### pypdf\n",
    "- Load PDF using pypdf into array of documents, where each document contains the page content and metadata with page number"
   ]
  },
  {
   "cell_type": "code",
   "execution_count": 4,
   "id": "36722ef5-4d0b-4522-ba86-839a5789ac0a",
   "metadata": {},
   "outputs": [
    {
     "name": "stdout",
     "output_type": "stream",
     "text": [
      "Requirement already satisfied: pypdf in c:\\users\\mansoor\\appdata\\roaming\\python\\python312\\site-packages (4.3.1)\n"
     ]
    }
   ],
   "source": [
    "# !pip install pypdf"
   ]
  },
  {
   "cell_type": "code",
   "execution_count": 5,
   "id": "3fb4520a-3f9e-45f2-8034-7856d08d4f69",
   "metadata": {},
   "outputs": [],
   "source": [
    "from langchain_community.document_loaders import PyPDFLoader"
   ]
  },
  {
   "cell_type": "code",
   "execution_count": 6,
   "id": "80e3dcb3-a5ea-4ab6-866c-7030c8e546b9",
   "metadata": {},
   "outputs": [],
   "source": [
    "# Load file into loader\n",
    "loader = PyPDFLoader('dataset/patient health data analysis.pdf')"
   ]
  },
  {
   "cell_type": "markdown",
   "id": "691b88e6-a59a-4b97-995e-723c784b4193",
   "metadata": {},
   "source": [
    "#### Load file into pages using load() function"
   ]
  },
  {
   "cell_type": "code",
   "execution_count": 7,
   "id": "eb013a56-30a3-4e1e-ad7f-aa7221473438",
   "metadata": {},
   "outputs": [],
   "source": [
    "pages = loader.load()"
   ]
  },
  {
   "cell_type": "code",
   "execution_count": 8,
   "id": "daf4c3f8-4b59-4ef5-94d4-57f6a84f6fa3",
   "metadata": {},
   "outputs": [
    {
     "data": {
      "text/plain": [
       "33"
      ]
     },
     "execution_count": 8,
     "metadata": {},
     "output_type": "execute_result"
    }
   ],
   "source": [
    "# See total number of pages\n",
    "len(pages)"
   ]
  },
  {
   "cell_type": "code",
   "execution_count": 9,
   "id": "036e2b71-d580-4999-93dc-be97b091b8de",
   "metadata": {},
   "outputs": [],
   "source": [
    "# check first page\n",
    "page = pages[0]"
   ]
  },
  {
   "cell_type": "code",
   "execution_count": 10,
   "id": "08af4dc4-e74b-49eb-aeed-21c38451377c",
   "metadata": {},
   "outputs": [
    {
     "data": {
      "text/plain": [
       "Document(metadata={'source': 'dataset/patient health data analysis.pdf', 'page': 0}, page_content='Team Alpha\\n2024HEALTH\\nDATA ANALYSIS\\nARTIFICIAL\\nINTELLIGENCE\\nDATE :\\n24 August 2024PRESENTED TO :\\nSir Muhammad\\nRizwan')"
      ]
     },
     "execution_count": 10,
     "metadata": {},
     "output_type": "execute_result"
    }
   ],
   "source": [
    "page"
   ]
  },
  {
   "cell_type": "code",
   "execution_count": 16,
   "id": "849394ff-4a34-49a1-be59-e1ca7755379d",
   "metadata": {},
   "outputs": [],
   "source": [
    "# See metadata of pdf\n",
    "meta_data = page.metadata"
   ]
  },
  {
   "cell_type": "code",
   "execution_count": 17,
   "id": "72295516-bfd5-4024-a103-637e7b736062",
   "metadata": {},
   "outputs": [
    {
     "data": {
      "text/plain": [
       "{'source': 'dataset/patient health data analysis.pdf', 'page': 0}"
      ]
     },
     "execution_count": 17,
     "metadata": {},
     "output_type": "execute_result"
    }
   ],
   "source": [
    "meta_data"
   ]
  },
  {
   "cell_type": "code",
   "execution_count": 20,
   "id": "35f62c8a-c02d-49e6-8c4d-295573cfe3c4",
   "metadata": {},
   "outputs": [
    {
     "data": {
      "text/plain": [
       "'dataset/patient health data analysis.pdf'"
      ]
     },
     "execution_count": 20,
     "metadata": {},
     "output_type": "execute_result"
    }
   ],
   "source": [
    "# check the source of metadata\n",
    "meta_data['source']"
   ]
  },
  {
   "cell_type": "code",
   "execution_count": 21,
   "id": "0205fb4e-ed89-450f-b660-0cdd8f65d809",
   "metadata": {},
   "outputs": [],
   "source": [
    "# Lets see content of page\n",
    "content = page.page_content"
   ]
  },
  {
   "cell_type": "code",
   "execution_count": 22,
   "id": "7884b39a-7d88-4a1b-96e2-c5c04fc4ce3f",
   "metadata": {},
   "outputs": [
    {
     "data": {
      "text/plain": [
       "'Team Alpha\\n2024HEALTH\\nDATA ANALYSIS\\nARTIFICIAL\\nINTELLIGENCE\\nDATE :\\n24 August 2024PRESENTED TO :\\nSir Muhammad\\nRizwan'"
      ]
     },
     "execution_count": 22,
     "metadata": {},
     "output_type": "execute_result"
    }
   ],
   "source": [
    "content"
   ]
  },
  {
   "cell_type": "code",
   "execution_count": 23,
   "id": "c354cc6c-e592-4b9a-9406-fd21213de38b",
   "metadata": {},
   "outputs": [
    {
     "name": "stdout",
     "output_type": "stream",
     "text": [
      "Team Alpha\n",
      "2024HEALTH\n",
      "DATA ANALYSIS\n",
      "ARTIFICIAL\n",
      "INTELLIGENCE\n",
      "DATE :\n",
      "24 August 2024PRESENTED TO :\n",
      "Sir Muhammad\n",
      "Rizwan\n"
     ]
    }
   ],
   "source": [
    "print(content)"
   ]
  },
  {
   "cell_type": "markdown",
   "id": "89450122-3d42-4897-b809-c8afa8f97a30",
   "metadata": {},
   "source": [
    "#### Load file into pages using load_and_split()"
   ]
  },
  {
   "cell_type": "code",
   "execution_count": 24,
   "id": "2f509dc8-2a15-40b4-b6bb-cd6f0934077e",
   "metadata": {},
   "outputs": [],
   "source": [
    "pages = loader.load_and_split()"
   ]
  },
  {
   "cell_type": "code",
   "execution_count": 25,
   "id": "ef536c23-0a3a-421a-8d77-47cfd379da81",
   "metadata": {},
   "outputs": [
    {
     "data": {
      "text/plain": [
       "33"
      ]
     },
     "execution_count": 25,
     "metadata": {},
     "output_type": "execute_result"
    }
   ],
   "source": [
    "# see number of pages\n",
    "len(pages)"
   ]
  },
  {
   "cell_type": "code",
   "execution_count": 26,
   "id": "9ca047cc-44bd-4ce2-8aa7-6804744b005b",
   "metadata": {},
   "outputs": [],
   "source": [
    "# See page\n",
    "page = pages[0]"
   ]
  },
  {
   "cell_type": "code",
   "execution_count": 27,
   "id": "bfd34c10-7385-4204-9e6b-6ec8a3fd6b2f",
   "metadata": {},
   "outputs": [
    {
     "data": {
      "text/plain": [
       "Document(metadata={'source': 'dataset/patient health data analysis.pdf', 'page': 0}, page_content='Team Alpha\\n2024HEALTH\\nDATA ANALYSIS\\nARTIFICIAL\\nINTELLIGENCE\\nDATE :\\n24 August 2024PRESENTED TO :\\nSir Muhammad\\nRizwan')"
      ]
     },
     "execution_count": 27,
     "metadata": {},
     "output_type": "execute_result"
    }
   ],
   "source": [
    "page"
   ]
  },
  {
   "cell_type": "markdown",
   "id": "88cb85b9-fe5f-4cee-88cf-6bdeb09a7762",
   "metadata": {},
   "source": [
    "### An advantage of using PyPDFLoader is that it load pdf along with page number"
   ]
  },
  {
   "cell_type": "code",
   "execution_count": null,
   "id": "2e912c07-1354-464a-895f-c97bd3be706f",
   "metadata": {},
   "outputs": [],
   "source": []
  },
  {
   "cell_type": "markdown",
   "id": "455cbd01-ccf9-4876-af81-cf631e25f407",
   "metadata": {},
   "source": [
    "### Load pdf along with pages"
   ]
  },
  {
   "cell_type": "markdown",
   "id": "a29ca7d8-19b4-4525-ae00-93d6f848df25",
   "metadata": {},
   "source": [
    "**For loading images with pdf we need to install `pip install rapidocr-onnxruntime` this module**"
   ]
  },
  {
   "cell_type": "code",
   "execution_count": 32,
   "id": "d723155f-7269-4981-99ac-4e470bcac264",
   "metadata": {},
   "outputs": [],
   "source": [
    "# !pip install rapidocr-onnxruntime"
   ]
  },
  {
   "cell_type": "code",
   "execution_count": 33,
   "id": "3415ce5c-7b71-4cc3-bcb9-53865527726c",
   "metadata": {},
   "outputs": [],
   "source": [
    "loader = PyPDFLoader('dataset/patient health data analysis.pdf', extract_images=True)"
   ]
  },
  {
   "cell_type": "code",
   "execution_count": 35,
   "id": "e811b864-a271-4e74-93c8-d868e536df82",
   "metadata": {},
   "outputs": [],
   "source": [
    "pages = loader.load()"
   ]
  },
  {
   "cell_type": "code",
   "execution_count": 36,
   "id": "b3e6c80d-4505-4074-82a3-99cb3bda24ac",
   "metadata": {},
   "outputs": [],
   "source": [
    "page = pages[0]"
   ]
  },
  {
   "cell_type": "code",
   "execution_count": 37,
   "id": "1edc3345-5977-4c81-a6e9-c50c520711b4",
   "metadata": {},
   "outputs": [
    {
     "data": {
      "text/plain": [
       "Document(metadata={'source': 'dataset/patient health data analysis.pdf', 'page': 0}, page_content='Team Alpha\\n2024HEALTH\\nDATA ANALYSIS\\nARTIFICIAL\\nINTELLIGENCE\\nDATE :\\n24 August 2024PRESENTED TO :\\nSir Muhammad\\nRizwan+\\nHospital')"
      ]
     },
     "execution_count": 37,
     "metadata": {},
     "output_type": "execute_result"
    }
   ],
   "source": [
    "page"
   ]
  },
  {
   "cell_type": "code",
   "execution_count": null,
   "id": "a5ccdc18-2307-4fcb-8530-d3dceb13a645",
   "metadata": {},
   "outputs": [],
   "source": []
  },
  {
   "cell_type": "markdown",
   "id": "63043fff-0b17-486c-b83d-9541029d8218",
   "metadata": {},
   "source": [
    "## Using PyMuPDF\n",
    "\n",
    "* \n",
    "This is the fastest of the PDF parsing options, and contains detailed metadata about the PDF and its pages, as well as returns one document per page."
   ]
  },
  {
   "cell_type": "code",
   "execution_count": 38,
   "id": "df4d8a78-a86f-4052-9ae3-d8b3efbc3bb9",
   "metadata": {},
   "outputs": [],
   "source": [
    "from langchain_community.document_loaders import PyMuPDFLoader"
   ]
  },
  {
   "cell_type": "code",
   "execution_count": 39,
   "id": "c86679ed-41ea-4eeb-afaf-28fdfb68dfaa",
   "metadata": {},
   "outputs": [],
   "source": [
    "loader = PyMuPDFLoader('dataset/patient health data analysis.pdf')"
   ]
  },
  {
   "cell_type": "code",
   "execution_count": 41,
   "id": "c4b83ef2-8992-4462-a8fa-07d2ec51dc5c",
   "metadata": {},
   "outputs": [],
   "source": [
    "pages = loader.load()"
   ]
  },
  {
   "cell_type": "code",
   "execution_count": 42,
   "id": "b14092e0-c0b3-4d89-b3ef-d50308410f56",
   "metadata": {},
   "outputs": [],
   "source": [
    "page = pages[1]"
   ]
  },
  {
   "cell_type": "code",
   "execution_count": 43,
   "id": "04b51ff0-4ea0-4005-9949-7f84355c9eec",
   "metadata": {},
   "outputs": [
    {
     "data": {
      "text/plain": [
       "Document(metadata={'source': 'dataset/patient health data analysis.pdf', 'file_path': 'dataset/patient health data analysis.pdf', 'page': 1, 'total_pages': 33, 'format': 'PDF 1.7', 'title': '', 'author': '', 'subject': '', 'keywords': '', 'creator': '', 'producer': 'PyPDF2', 'creationDate': '', 'modDate': '', 'trapped': ''}, page_content=\"The dataset comprises health records collected from a medical center,\\nfeaturing several key columns. Each entry is uniquely identified by a Patient ID.\\nThe dataset includes the Age and Gender of the patient, as well as their Blood\\nPressure (BP), which records both systolic and diastolic readings. Cholesterol\\nlevels are also noted, along with the patient's Heart Rate measured at rest. The\\nBody Mass Index (BMI) of each patient is calculated and recorded.\\nAdditionally, there is an indicator for Diabetes, specifying whether the patient\\nhas diabetes (Yes/No).\\nIn this project, we aim to analyze and visualize patient health data using\\nPython. The tools used include NumPy and pandas for data manipulation, and\\nMatplotlib for data visualization. Our goal is to uncover insights into health\\ntrends such as blood pressure levels, cholesterol, and other vital statistics,\\nwhich can aid in medical decision-making. \\nUtilize Libraries: Learn to effectively use Matplotlib, NumPy, and pandas in\\nthe context of medical data.\\n Data Handling: Load, clean, and manipulate patient health data to ensure\\naccuracy. \\nStatistical Analysis: Conduct basic statistical analyses using NumPy.\\nData Visualization: Create visualizations to interpret health trends and\\npatterns. \\nComprehensive Analysis: Combine visualizations to offer a holistic view of\\npatient health data. \\nPATIENT HEALTH DATA ANALYSIS\\nAND VISUALIZATION \\nCorvit System Muzaffarabad\\nOVERVIEW\\nOBJECTIVES\\nDATASET\\n\")"
      ]
     },
     "execution_count": 43,
     "metadata": {},
     "output_type": "execute_result"
    }
   ],
   "source": [
    "page"
   ]
  },
  {
   "cell_type": "code",
   "execution_count": 44,
   "id": "33b03f20-a841-459f-bfb2-0b49934463e4",
   "metadata": {},
   "outputs": [
    {
     "data": {
      "text/plain": [
       "{'source': 'dataset/patient health data analysis.pdf',\n",
       " 'file_path': 'dataset/patient health data analysis.pdf',\n",
       " 'page': 1,\n",
       " 'total_pages': 33,\n",
       " 'format': 'PDF 1.7',\n",
       " 'title': '',\n",
       " 'author': '',\n",
       " 'subject': '',\n",
       " 'keywords': '',\n",
       " 'creator': '',\n",
       " 'producer': 'PyPDF2',\n",
       " 'creationDate': '',\n",
       " 'modDate': '',\n",
       " 'trapped': ''}"
      ]
     },
     "execution_count": 44,
     "metadata": {},
     "output_type": "execute_result"
    }
   ],
   "source": [
    "page.metadata"
   ]
  },
  {
   "cell_type": "code",
   "execution_count": 46,
   "id": "7e799f1e-7269-4bb7-ae70-7ba70fb55f30",
   "metadata": {},
   "outputs": [
    {
     "name": "stdout",
     "output_type": "stream",
     "text": [
      "The dataset comprises health records collected from a medical center,\n",
      "featuring several key columns. Each entry is uniquely identified by a Patient ID.\n",
      "The dataset includes the Age and Gender of the patient, as well as their Blood\n",
      "Pressure (BP), which records both systolic and diastolic readings. Cholesterol\n",
      "levels are also noted, along with the patient's Heart Rate measured at rest. The\n",
      "Body Mass Index (BMI) of each patient is calculated and recorded.\n",
      "Additionally, there is an indicator for Diabetes, specifying whether the patient\n",
      "has diabetes (Yes/No).\n",
      "In this project, we aim to analyze and visualize patient health data using\n",
      "Python. The tools used include NumPy and pandas for data manipulation, and\n",
      "Matplotlib for data visualization. Our goal is to uncover insights into health\n",
      "trends such as blood pressure levels, cholesterol, and other vital statistics,\n",
      "which can aid in medical decision-making. \n",
      "Utilize Libraries: Learn to effectively use Matplotlib, NumPy, and pandas in\n",
      "the context of medical data.\n",
      " Data Handling: Load, clean, and manipulate patient health data to ensure\n",
      "accuracy. \n",
      "Statistical Analysis: Conduct basic statistical analyses using NumPy.\n",
      "Data Visualization: Create visualizations to interpret health trends and\n",
      "patterns. \n",
      "Comprehensive Analysis: Combine visualizations to offer a holistic view of\n",
      "patient health data. \n",
      "PATIENT HEALTH DATA ANALYSIS\n",
      "AND VISUALIZATION \n",
      "Corvit System Muzaffarabad\n",
      "OVERVIEW\n",
      "OBJECTIVES\n",
      "DATASET\n",
      "\n"
     ]
    }
   ],
   "source": [
    "print(page.page_content)"
   ]
  },
  {
   "cell_type": "code",
   "execution_count": 47,
   "id": "85f197c8-4dd6-4329-af27-184d640f618f",
   "metadata": {},
   "outputs": [
    {
     "data": {
      "text/plain": [
       "{}"
      ]
     },
     "execution_count": 47,
     "metadata": {},
     "output_type": "execute_result"
    }
   ],
   "source": [
    "page.lc_secrets"
   ]
  },
  {
   "cell_type": "code",
   "execution_count": 48,
   "id": "69ccc435-ca50-4448-b7a1-fd25919f06ef",
   "metadata": {},
   "outputs": [
    {
     "data": {
      "text/plain": [
       "{}"
      ]
     },
     "execution_count": 48,
     "metadata": {},
     "output_type": "execute_result"
    }
   ],
   "source": [
    "page.lc_attributes"
   ]
  },
  {
   "cell_type": "code",
   "execution_count": 50,
   "id": "22b05a8a-a43d-4514-8d60-abbfcfe2f549",
   "metadata": {},
   "outputs": [
    {
     "data": {
      "text/plain": [
       "{'lc': 1,\n",
       " 'type': 'constructor',\n",
       " 'id': ['langchain', 'schema', 'document', 'Document'],\n",
       " 'kwargs': {'metadata': {'source': 'dataset/patient health data analysis.pdf',\n",
       "   'file_path': 'dataset/patient health data analysis.pdf',\n",
       "   'page': 1,\n",
       "   'total_pages': 33,\n",
       "   'format': 'PDF 1.7',\n",
       "   'title': '',\n",
       "   'author': '',\n",
       "   'subject': '',\n",
       "   'keywords': '',\n",
       "   'creator': '',\n",
       "   'producer': 'PyPDF2',\n",
       "   'creationDate': '',\n",
       "   'modDate': '',\n",
       "   'trapped': ''},\n",
       "  'page_content': \"The dataset comprises health records collected from a medical center,\\nfeaturing several key columns. Each entry is uniquely identified by a Patient ID.\\nThe dataset includes the Age and Gender of the patient, as well as their Blood\\nPressure (BP), which records both systolic and diastolic readings. Cholesterol\\nlevels are also noted, along with the patient's Heart Rate measured at rest. The\\nBody Mass Index (BMI) of each patient is calculated and recorded.\\nAdditionally, there is an indicator for Diabetes, specifying whether the patient\\nhas diabetes (Yes/No).\\nIn this project, we aim to analyze and visualize patient health data using\\nPython. The tools used include NumPy and pandas for data manipulation, and\\nMatplotlib for data visualization. Our goal is to uncover insights into health\\ntrends such as blood pressure levels, cholesterol, and other vital statistics,\\nwhich can aid in medical decision-making. \\nUtilize Libraries: Learn to effectively use Matplotlib, NumPy, and pandas in\\nthe context of medical data.\\n Data Handling: Load, clean, and manipulate patient health data to ensure\\naccuracy. \\nStatistical Analysis: Conduct basic statistical analyses using NumPy.\\nData Visualization: Create visualizations to interpret health trends and\\npatterns. \\nComprehensive Analysis: Combine visualizations to offer a holistic view of\\npatient health data. \\nPATIENT HEALTH DATA ANALYSIS\\nAND VISUALIZATION \\nCorvit System Muzaffarabad\\nOVERVIEW\\nOBJECTIVES\\nDATASET\\n\",\n",
       "  'type': 'Document'}}"
      ]
     },
     "execution_count": 50,
     "metadata": {},
     "output_type": "execute_result"
    }
   ],
   "source": [
    "page.to_json()"
   ]
  },
  {
   "cell_type": "code",
   "execution_count": null,
   "id": "35972c4a-82b9-4c62-8ece-5108bc568a3f",
   "metadata": {},
   "outputs": [],
   "source": []
  }
 ],
 "metadata": {
  "kernelspec": {
   "display_name": "Python 3 (ipykernel)",
   "language": "python",
   "name": "python3"
  },
  "language_info": {
   "codemirror_mode": {
    "name": "ipython",
    "version": 3
   },
   "file_extension": ".py",
   "mimetype": "text/x-python",
   "name": "python",
   "nbconvert_exporter": "python",
   "pygments_lexer": "ipython3",
   "version": "3.12.4"
  }
 },
 "nbformat": 4,
 "nbformat_minor": 5
}
