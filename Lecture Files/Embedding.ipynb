{
 "cells": [
  {
   "cell_type": "markdown",
   "id": "97662745-6d46-4181-8d6e-f80afb924d79",
   "metadata": {},
   "source": [
    "## Load pdf through Loader"
   ]
  },
  {
   "cell_type": "code",
   "execution_count": 1,
   "id": "2572ab9c-a87b-4338-8891-dcd32ea84fb2",
   "metadata": {},
   "outputs": [],
   "source": [
    "from langchain_community.document_loaders import PyPDFLoader"
   ]
  },
  {
   "cell_type": "code",
   "execution_count": 2,
   "id": "5fa54576-b49b-49ef-9338-0facc3238c88",
   "metadata": {},
   "outputs": [],
   "source": [
    "loader = PyPDFLoader('dataset/patient health data analysis.pdf')"
   ]
  },
  {
   "cell_type": "code",
   "execution_count": 3,
   "id": "ecac24ac-3e0d-463e-8705-67f188ed9fea",
   "metadata": {},
   "outputs": [],
   "source": [
    "pages = loader.load_and_split()"
   ]
  },
  {
   "cell_type": "code",
   "execution_count": 4,
   "id": "b8b678ca-3c18-4bc6-a9f8-8ae950a6c0a6",
   "metadata": {},
   "outputs": [
    {
     "data": {
      "text/plain": [
       "33"
      ]
     },
     "execution_count": 4,
     "metadata": {},
     "output_type": "execute_result"
    }
   ],
   "source": [
    "len(pages)"
   ]
  },
  {
   "cell_type": "markdown",
   "id": "2b018a35-7e29-4ebb-aca6-5a14c26f3454",
   "metadata": {},
   "source": [
    "## Split in chunks through Splitter"
   ]
  },
  {
   "cell_type": "code",
   "execution_count": 5,
   "id": "5876233f-c0b3-4fd7-b8f8-5ee61f2faa08",
   "metadata": {},
   "outputs": [],
   "source": [
    "from langchain.text_splitter import RecursiveCharacterTextSplitter"
   ]
  },
  {
   "cell_type": "code",
   "execution_count": 6,
   "id": "e052620d-1a58-41b1-abd8-8b5c271626a9",
   "metadata": {},
   "outputs": [],
   "source": [
    "chunk_size = 30\n",
    "chunk_overlap = 4"
   ]
  },
  {
   "cell_type": "code",
   "execution_count": 7,
   "id": "050efdbf-d238-4d5c-ab08-58732b80072a",
   "metadata": {},
   "outputs": [],
   "source": [
    "r_splitter = RecursiveCharacterTextSplitter(\n",
    "    chunk_size=chunk_size,\n",
    "    chunk_overlap = chunk_overlap\n",
    ")"
   ]
  },
  {
   "cell_type": "code",
   "execution_count": 8,
   "id": "94935979-8d57-494a-a84f-9a87908c1b03",
   "metadata": {},
   "outputs": [],
   "source": [
    "chunk_list = []\n",
    "for page in pages:\n",
    "    chunks = r_splitter.split_text(page.page_content)\n",
    "    for chunk in chunks:\n",
    "        chunk_list.append(chunk)"
   ]
  },
  {
   "cell_type": "code",
   "execution_count": 9,
   "id": "9b7ecdac-06ef-4663-b31e-9c1e16cb5e69",
   "metadata": {},
   "outputs": [
    {
     "data": {
      "text/plain": [
       "1345"
      ]
     },
     "execution_count": 9,
     "metadata": {},
     "output_type": "execute_result"
    }
   ],
   "source": [
    "len(chunk_list)"
   ]
  },
  {
   "cell_type": "code",
   "execution_count": 11,
   "id": "81d5f909-4532-4564-b5b2-554ac1716d5f",
   "metadata": {},
   "outputs": [
    {
     "name": "stdout",
     "output_type": "stream",
     "text": [
      "['Team Alpha\\n2024HEALTH', 'DATA ANALYSIS\\nARTIFICIAL', 'INTELLIGENCE\\nDATE :', '24 August 2024PRESENTED TO :', 'Sir Muhammad\\nRizwan']\n"
     ]
    }
   ],
   "source": [
    "print(chunk_list[:5])"
   ]
  },
  {
   "cell_type": "code",
   "execution_count": null,
   "id": "489ef597-b40a-4231-bfff-903ff3edd71d",
   "metadata": {},
   "outputs": [],
   "source": []
  },
  {
   "cell_type": "markdown",
   "id": "1af4e870-7c4e-44e3-99d9-16055d1ee09b",
   "metadata": {},
   "source": [
    "## Embedding"
   ]
  },
  {
   "cell_type": "code",
   "execution_count": null,
   "id": "d28553cd-77b5-457e-bb9e-ad421ee0f972",
   "metadata": {},
   "outputs": [],
   "source": []
  }
 ],
 "metadata": {
  "kernelspec": {
   "display_name": "Python 3 (ipykernel)",
   "language": "python",
   "name": "python3"
  },
  "language_info": {
   "codemirror_mode": {
    "name": "ipython",
    "version": 3
   },
   "file_extension": ".py",
   "mimetype": "text/x-python",
   "name": "python",
   "nbconvert_exporter": "python",
   "pygments_lexer": "ipython3",
   "version": "3.12.4"
  }
 },
 "nbformat": 4,
 "nbformat_minor": 5
}
