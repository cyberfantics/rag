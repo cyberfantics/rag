{
 "cells": [
  {
   "cell_type": "markdown",
   "id": "466e5317-d45d-4a61-9d6a-59e046177a41",
   "metadata": {},
   "source": [
    "# Importing the packages for spliters"
   ]
  },
  {
   "cell_type": "code",
   "execution_count": 1,
   "id": "03766760-7289-4002-ab18-1d724f0b22cb",
   "metadata": {},
   "outputs": [],
   "source": [
    "from langchain.text_splitter import RecursiveCharacterTextSplitter, CharacterTextSplitter"
   ]
  },
  {
   "cell_type": "markdown",
   "id": "62cc42e7-aaab-4b7a-82e4-d5e89da11ad6",
   "metadata": {},
   "source": [
    "## `Chearacter Text Splitter`"
   ]
  },
  {
   "cell_type": "markdown",
   "id": "5c70490e-dee6-49ba-8e63-6204f85c6d97",
   "metadata": {},
   "source": [
    "### Define the chunks size"
   ]
  },
  {
   "cell_type": "code",
   "execution_count": 2,
   "id": "bbde934d-f21d-428c-88f1-9c26cbf9efd0",
   "metadata": {},
   "outputs": [],
   "source": [
    "# do some experiment with different chunk size and overlap\n",
    "chunk_size = 26\n",
    "chunk_overlap = 4"
   ]
  },
  {
   "cell_type": "code",
   "execution_count": 3,
   "id": "8bd9e633-9c22-4689-8240-1891287750c0",
   "metadata": {},
   "outputs": [],
   "source": [
    "c_splitter = CharacterTextSplitter(\n",
    "    chunk_size = chunk_size,\n",
    "    # separator = '\\n\\n',\n",
    "    chunk_overlap = chunk_overlap\n",
    ")"
   ]
  },
  {
   "cell_type": "markdown",
   "id": "28e41241-1474-4747-b25a-881fd7c2a457",
   "metadata": {},
   "source": [
    "##### `Note:` In Character text splitter, by default spearator is paragraph, and when the chunk size complete, It check whether at that position paragraph is completed or not, if yes, it split otherwise it increase the chunk size until paragraph is not completed. It is the limition of it b/c maybe it increase the chunk size to the limit which is the limit of chunk size of an NLP Model. Moreover we can only pass one separator to it."
   ]
  },
  {
   "cell_type": "markdown",
   "id": "e060d141-8305-43e6-ab66-f30f8ec50c1e",
   "metadata": {},
   "source": [
    "### `Recursive Text Splitter`"
   ]
  },
  {
   "cell_type": "code",
   "execution_count": 5,
   "id": "831b687c-31e7-4951-bdaa-0756790d8003",
   "metadata": {},
   "outputs": [],
   "source": [
    "r_splitter = RecursiveCharacterTextSplitter(\n",
    "    chunk_size = chunk_size,\n",
    "    separators = ['\\n','\\n\\n',' ', ''], # It takes a list of separator\n",
    "    chunk_overlap = chunk_overlap\n",
    ")"
   ]
  },
  {
   "cell_type": "code",
   "execution_count": null,
   "id": "cf220f1b-07da-4224-a5b1-6e7ce20b0785",
   "metadata": {},
   "outputs": [],
   "source": []
  },
  {
   "cell_type": "markdown",
   "id": "c7d92389-a2b6-4609-af81-cf044e9e2102",
   "metadata": {},
   "source": [
    "### Test splitters"
   ]
  },
  {
   "cell_type": "code",
   "execution_count": 21,
   "id": "16fe8144-ed26-4d11-b8b4-ab8de44a084c",
   "metadata": {},
   "outputs": [],
   "source": [
    "text = \"\"\"A quick brown fox jumps over the lazy dog.\n",
    "Greedy dog story.\n",
    "\n",
    "We don't forget, we don't forgive. Anonymous Hackerz\n",
    "        \"\"\""
   ]
  },
  {
   "cell_type": "code",
   "execution_count": 22,
   "id": "199045e3-b7bf-4041-ab45-f94a1c3fb5fd",
   "metadata": {},
   "outputs": [
    {
     "data": {
      "text/plain": [
       "['A quick brown fox jumps',\n",
       " 'over the lazy dog.',\n",
       " 'Greedy dog story.',\n",
       " \"We don't forget, we don't\",\n",
       " 'forgive. Anonymous',\n",
       " 'Hackerz']"
      ]
     },
     "execution_count": 22,
     "metadata": {},
     "output_type": "execute_result"
    }
   ],
   "source": [
    "r_splitter.split_text(text)"
   ]
  },
  {
   "cell_type": "code",
   "execution_count": 23,
   "id": "b0ef193f-af23-4732-b20d-d39b0d1c5ed9",
   "metadata": {},
   "outputs": [
    {
     "name": "stderr",
     "output_type": "stream",
     "text": [
      "Created a chunk of size 60, which is longer than the specified 26\n"
     ]
    },
    {
     "data": {
      "text/plain": [
       "['A quick brown fox jumps over the lazy dog.\\nGreedy dog story.',\n",
       " \"We don't forget, we don't forgive. Anonymous Hackerz\"]"
      ]
     },
     "execution_count": 23,
     "metadata": {},
     "output_type": "execute_result"
    }
   ],
   "source": [
    "c_splitter.split_text(text)"
   ]
  },
  {
   "cell_type": "markdown",
   "id": "f5612ef8-f6a4-4aca-8007-30d16601829a",
   "metadata": {},
   "source": [
    "##### If we change separator in Character Splitter from `\\n` to `''` it automatically create chunk size of given"
   ]
  },
  {
   "cell_type": "code",
   "execution_count": null,
   "id": "b9e32d55-78cc-4f1c-a243-bc1c7e7eca6a",
   "metadata": {},
   "outputs": [],
   "source": []
  },
  {
   "cell_type": "markdown",
   "id": "27a1d36b-f2cb-4e10-b489-28a94f42b964",
   "metadata": {},
   "source": [
    "## Sementic Splitter"
   ]
  },
  {
   "cell_type": "code",
   "execution_count": 2,
   "id": "aa43c4e0-7521-4ae3-b630-228a4a243311",
   "metadata": {},
   "outputs": [],
   "source": [
    "# !pip install --quiet langchain_experimental"
   ]
  },
  {
   "cell_type": "code",
   "execution_count": 3,
   "id": "cd35a88e-aac3-4686-9ef4-042463280f77",
   "metadata": {},
   "outputs": [],
   "source": [
    "from langchain_huggingface import HuggingFaceEmbeddings"
   ]
  },
  {
   "cell_type": "code",
   "execution_count": 4,
   "id": "9942421e-7948-4060-a364-36fe8ec8f285",
   "metadata": {},
   "outputs": [
    {
     "name": "stderr",
     "output_type": "stream",
     "text": [
      "D:\\anaconda\\Lib\\site-packages\\sentence_transformers\\cross_encoder\\CrossEncoder.py:11: TqdmExperimentalWarning: Using `tqdm.autonotebook.tqdm` in notebook mode. Use `tqdm.tqdm` instead to force console mode (e.g. in jupyter console)\n",
      "  from tqdm.autonotebook import tqdm, trange\n"
     ]
    },
    {
     "name": "stdout",
     "output_type": "stream",
     "text": [
      "WARNING:tensorflow:From C:\\Users\\Mansoor\\AppData\\Roaming\\Python\\Python312\\site-packages\\tf_keras\\src\\losses.py:2976: The name tf.losses.sparse_softmax_cross_entropy is deprecated. Please use tf.compat.v1.losses.sparse_softmax_cross_entropy instead.\n",
      "\n"
     ]
    }
   ],
   "source": [
    "embed_model = HuggingFaceEmbeddings(model_name='BAAI/bge-small-en-v1.5')"
   ]
  },
  {
   "cell_type": "code",
   "execution_count": 10,
   "id": "f39a93fa-5499-4613-a501-cb37b11b19c9",
   "metadata": {},
   "outputs": [],
   "source": [
    "text = '''Product\n",
    "\n",
    "Work\n",
    "\n",
    "Education\n",
    "Pricing\n",
    "\n",
    "Resources\n",
    "Contact Sales\n",
    "Log in\n",
    "\n",
    "Writing\n",
    "Product\n",
    "Company\n",
    "Share on Facebook\n",
    "Share on Twitter\n",
    "Share on Linkedin\n",
    "Share via email\n",
    "Share via Facebook Messenger\n",
    "How to Write a Five-Paragraph Essay, With Outlines and an Example\n",
    "Matt Ellis\n",
    "Matt Ellis\n",
    "Updated on April 14, 2023\n",
    "Students\n",
    "Writing Tips\n",
    "Five-paragraph essay\n",
    "A five-paragraph essay is a simple format for writing a complete essay, fitting the minimal components of an essay into just five paragraphs. Although it doesn’t have much breadth for complexity, the five-paragraph essay format is useful for helping students and academics structure basic papers.\n",
    "\n",
    "If you’re having trouble writing, you can use the five-paragraph essay format as a guide or template. Below we discuss the fundamentals of the five-paragraph essay, explaining how to write one and what to include. \n",
    "\n",
    "Give your writing extra polish\n",
    "Grammarly helps you communicate confidently\n",
    "Write with Grammarly\n",
    "What is a five-paragraph essay? \n",
    "The five-paragraph essay format is a guide that helps writers structure an essay. It consists of one introductory paragraph, three body paragraphs for support, and one concluding paragraph. Because of this structure, it has been nicknamed the “hamburger essay,” the “one-three-one essay,” and the “three-tier essay.” \n",
    "\n",
    "You won’t find too many five-paragraph essay examples in literature, simply because the format is too short. The five-paragraph essay format is more popular for educational assignments, such as school papers or quick writing exercises. Think of it as a writing tool to guide structure rather than an independent genre of essay. \n",
    "\n",
    "Part of the appeal of the five-paragraph essay format is that it can accommodate all types of essays. No matter your assignment, whether an argumentative essay or a compare-and-contrast essay, you can apply the structure of a five-paragraph essay to communicate clearly and logically, as long as your topic is simple enough to be covered in just five paragraphs.\n",
    "\n",
    "How to start a five-paragraph essay\n",
    "As with all essays, before you begin writing a five-paragraph essay, you first need to know your thesis, or main topic. Your thesis is the idea you will defend or expand upon, and ultimately what your entire essay is about, and the three paragraphs in the middle will support, prove, or elaborate on your thesis.\n",
    "\n",
    "Naturally, you can’t begin writing until you know what you’re writing about. If your thesis is not provided in the assignment, choose one that has sufficient content for discussion, or at least enough to fill five paragraphs. \n",
    "\n",
    "Writers typically explain the thesis in the thesis statement, a sentence in the first paragraph that tells the reader what the essay is about. You don’t need to write this first, but phrasing the topic as a single sentence can help you to understand it, focus it, and revise it if needed. \n",
    "\n",
    "Once you’ve selected a topic, we recommend writing a quick essay outline so you know what information to include and in which paragraphs. Your five-paragraph essay outline is like a blueprint where you can perfect the order and structure of your essay beforehand to save time on editing later. \n",
    "\n",
    "Writing a five-paragraph essay outline shouldn’t take long, especially if you use our format below as a template. \n",
    "\n",
    "How to transition between paragraphs\n",
    "One of the biggest challenges in essay writing is transitioning from one paragraph to another. Good writing is seamless and fluid, so if your paragraph transitions are jarring or abrupt, readers will get distracted from the flow and lose momentum or even interest. \n",
    "\n",
    "The best way to move logically from one point to another is to create transition sentences using words or phrases like “however,” “similarly,” or “on the other hand.” Sometimes adding a single word to the beginning of a paragraph is enough to connect it to the preceding paragraph and keep the reader on track. You can find a full list of transition words and phrases here. \n",
    "\n",
    "Five-paragraph essay format\n",
    "If you’re writing your five-paragraph essay outline—or if you’re diving right into the first draft—it helps to know what information to include in each paragraph. Just like in all prose writing, the basic components of your essay are its paragraphs. \n",
    "\n",
    "In five-paragraph essays, each paragraph has a unique role to play. Below we explain the goals for each specific paragraph and what to include in them. \n",
    "\n",
    "Introductory paragraph\n",
    "The first paragraph is crucial. Not only does it set the tone of your entire essay, it also introduces the topic to the reader so they know what to expect. Luckily, many of the same suggestions for how to start an essay still apply to five-paragraph essays. \n",
    "\n",
    "First and foremost, your introductory paragraph should contain your thesis statement. This single sentence clearly communicates what the entire essay is about, including your opinion or argument, if it’s warranted. \n",
    "\n",
    "The thesis statement is often the first sentence, but feel free to move it back if you want to open with something more attention-grabbing, like a hook. In writing, a hook is something that attracts the reader’s interest, such as mystery, urgency, or good old-fashioned drama. \n",
    "\n",
    "Your introductory paragraph is also a good spot to include any background context for your topic. You should save the most significant information for the body paragraphs, but you can use the introduction to give basic information that your readers might not know. \n",
    "\n",
    "Finally, your introductory paragraph should touch on the individual points made in the subsequent paragraphs, similar to an outline. You don’t want to give too much away in the first paragraph, just a brief mention of what you’ll discuss. Save the details for the following paragraphs, where you’ll have room to elaborate. \n",
    "\n",
    "Body paragraphs\n",
    "The three body paragraphs are the “meat” of your essay, where you describe details, share evidence, explain your reasoning, and otherwise advance your thesis. Each paragraph should be a separate and independent topic that supports your thesis. \n",
    "\n",
    "Start each paragraph with a topic sentence, which acts a bit like a thesis statement, except it describes the topic of only that paragraph. The topic sentence summarizes the point that the entire paragraph makes, but saves the details for the following sentences. Don’t be afraid to include a transition word or phrase in the topic sentence if the subject change from the previous paragraph is too drastic.\n",
    "\n",
    "After the topic sentence, fill in the rest of the paragraph with the details. These could be persuasive arguments, empirical data, quotes from authoritative sources, or just logical reasoning. Be sure to avoid any sentences that are off-topic or tangential; five-paragraph essays are supposed to be concise, so include only the relevant details. \n",
    "\n",
    "Concluding paragraph\n",
    "The final paragraph concludes the essay. You don’t want to add any new evidence or support in the last paragraph; instead, summarize the points from the previous paragraphs and tie them together. Here, the writer restates the thesis and reminds the reader of the points made in the three body paragraphs. \n",
    "\n",
    "If the goal of your essay is to convince the reader to do something, like donate to a cause or change their behavior, the concluding paragraph can also include a call to action. A call to action is a statement or request that explains clearly what the writer wants the reader to do. For example, if your topic is preventing forest fires, your call to action might be: “Remember to obey safety laws when camping.” \n",
    "\n",
    "The basic principles of how to write a conclusion for an essay apply to five-paragraph essays as well. For example, the final paragraph is a good time to explain why this topic matters or to add your own opinion. It also helps to end with a thought-provoking sentence, such as an open-ended question, to give your audience something to think about after reading. \n",
    "\n",
    "Five-paragraph essay example\n",
    "Here’s a five-paragraph essay example, so you can better understand how they work. \n",
    "\n",
    "Capybaras make great pets, and the laws against owning them should be reconsidered. Capybaras are a dog-sized animal with coarse fur, native to eastern South America. They’re known across the internet as the friendliest animal on the planet, but there’s a lot of misinformation about them as pets. They’re considered an exotic animal, so a lot of legal restrictions prevent people from owning them as pets, but it’s time to reevaluate these laws. \n",
    "\n",
    "For one thing, capybaras are rodents—the largest rodents in the world, actually—and plenty of rodents are already normalized as pets. Capybaras are closely related to guinea pigs and chinchillas, both of which are popular pets, and more distantly related to mice and rats, another common type of pet. In nature, most rodents (including capybaras) are social animals and live in groups, which makes them accustomed to life as a pet. \n",
    "\n",
    "There are a lot of prevalent myths about capybaras that dissuade people from owning them, but most of these are unfounded. For example, people assume capybaras smell bad, but this is not true; their special fur actually resists odor. Another myth is that they’re messy, but in reality, capybaras don’t shed often and can even be litter-trained! One rumor based in truth is that they can be destructive and chew on their owners’ things, but so can dogs, and dogs are one of the most common pets we have. \n",
    "\n",
    "The one reasonable criticism for keeping capybaras as pets is that they are high-maintenance. Capybaras require lots of space to run around and are prone to separation anxiety if owners are gone most of the day. Moreover, capybaras are semi-aquatic, so it’s best for them to have a pool to swim in. However difficult these special conditions are to meet, they’re all still doable; as with all pets, the owners should simply commit to these prerequisites before getting one. \n",
    "\n",
    "All in all, the advantages of capybaras as pets outweigh the cons. As rodents, they’re social and trainable, and many of the deterrent myths about them are untrue. Even the extra maintenance they require is still manageable. If capybaras are illegal to own where you live, contact your local lawmakers and petition them to reconsider these laws. You’ll see first-hand just why the internet has fallen in love with this “friend-shaped” animal! \n",
    "\n",
    "In this example, you’ll notice a lot of the points we discussed earlier.\n",
    "\n",
    "The first sentence in the first paragraph is our thesis statement, which explains what this essay is about and the writer’s stance on the subject. Also in the first paragraph is the necessary background information for context, in this case a description of capybaras for readers who aren’t familiar with them. \n",
    "\n",
    "Notice how each of the three body paragraphs focuses on its own particular topic. The first discusses how rodents in general make good pets, and the second dispels some common rumors about capybaras as pets. The third paragraph directly addresses criticism of the writer’s point of view, a common tactic used in argumentative and persuasive essays to strengthen the writer’s argument. \n",
    "\n",
    "Last, the concluding paragraph reiterates the previous points and ties them together. Because the topic involves laws about keeping capybaras as pets, there’s a call to action about contacting lawmakers. The final sentence is written as a friendly send-off, leaving the reader at a high point. \n",
    "\n",
    "Five-paragraph essay FAQ\n",
    "What is a five-paragraph essay?\n",
    "A five-paragraph essay is a basic form of essay that acts as a writing tool to teach structure. It’s common in schools for short assignments and writing practice. \n",
    "\n",
    "How is it structured?\n",
    "The five-paragraph essay structure consists of, in order: one introductory paragraph that introduces the main topic and states a thesis, three body paragraphs to support the thesis, and one concluding paragraph to wrap up the points made in the essay. \n",
    "\n",
    "Your writing, at its best.\n",
    "Works on all your favorite websites\n",
    "iPhone and iPad KeyboardAndroid KeyboardChrome BrowserSafari BrowserFirefox BrowserEdge BrowserWindows OSMicrosoft Office\n",
    "Related Articles\n",
    "\n",
    "Writing Tips\n",
    "Formal vs. Informal Writing: A Complete Guide\n",
    "\n",
    "Writing Tips\n",
    "Opposite Words in English: Grow Your Vocabulary With Antonyms\n",
    "\n",
    "Writing Tips\n",
    "How to Write the Perfect “Congratulations on Your Retirement” Message\n",
    "\n",
    "Writing Tips\n",
    "What Is the Climax of a Story?\n",
    "\n",
    "Writing Tips\n",
    "Flow: Ensure Sentences Are in Logical Order\n",
    "\n",
    "Writing Tips\n",
    "What Is Slang? Definition and Examples\n",
    "Get Grammarly\n",
    "Grammarly for Your Desktop\n",
    "Grammarly for Windows\n",
    "Grammarly for Mac\n",
    "Grammarly Browser Extension\n",
    "Grammarly for Chrome\n",
    "Grammarly for Safari\n",
    "Grammarly for Firefox\n",
    "Grammarly for Edge\n",
    "Grammarly for MS Office\n",
    "Grammarly for Google Docs\n",
    "Grammarly for Mobile\n",
    "Grammarly for iPhone\n",
    "Grammarly for iPad\n",
    "Grammarly for Android\n",
    "Learn More\n",
    "Plans\n",
    "Grammarly Premium\n",
    "Grammarly Business\n",
    "Grammarly for Education\n",
    "Generative AI\n",
    "Blog\n",
    "Tech Blog\n",
    "Education Blog\n",
    "Business Blog\n",
    "Features\n",
    "Grammar Checker\n",
    "Plagiarism Checker\n",
    "Citation Generator\n",
    "Essay Checker\n",
    "Paraphrasing Tool\n",
    "AI Writing Tools\n",
    "Tone Detector\n",
    "Style Guide\n",
    "Snippets\n",
    "Analytics\n",
    "Brand Tones\n",
    "Company\n",
    "About\n",
    "We Stand With Ukraine\n",
    "Responsible AI\n",
    "Careers & Culture\n",
    "Press\n",
    "Affiliates\n",
    "Partners\n",
    "Trust Center\n",
    "Privacy Policy\n",
    "Terms of Service\n",
    "Customer Business Agreement\n",
    "CA Privacy Notice\n",
    "Security\n",
    "Accessibility\n",
    "Connect\n",
    "Help Center\n",
    "Contact Us\n",
    " Facebook\n",
    " Instagram\n",
    " X\n",
    " LinkedIn\n",
    "2024 © Grammarly Inc.'''"
   ]
  },
  {
   "cell_type": "markdown",
   "id": "5400d09a-eba7-4c7b-94fd-607d6a0d0fd6",
   "metadata": {},
   "source": [
    "#### import sementic splitter"
   ]
  },
  {
   "cell_type": "code",
   "execution_count": 11,
   "id": "8fc1bf63-46ee-4df0-bd3d-7a90c42f12af",
   "metadata": {},
   "outputs": [],
   "source": [
    "from langchain_experimental.text_splitter import SemanticChunker"
   ]
  },
  {
   "cell_type": "code",
   "execution_count": 12,
   "id": "87384bd8-65de-458d-834f-ab7e9d812cf8",
   "metadata": {},
   "outputs": [],
   "source": [
    "text_splitter = SemanticChunker(\n",
    "    embed_model, breakpoint_threshold_type='percentile'\n",
    ")"
   ]
  },
  {
   "cell_type": "code",
   "execution_count": 13,
   "id": "b9de8036-b6e7-4a2f-b8c2-a588b5d72f80",
   "metadata": {},
   "outputs": [],
   "source": [
    "sementic_split = text_splitter.split_text(text)"
   ]
  },
  {
   "cell_type": "code",
   "execution_count": 14,
   "id": "bf47d1cc-bb22-407d-a445-a0483818587a",
   "metadata": {},
   "outputs": [
    {
     "data": {
      "text/plain": [
       "6"
      ]
     },
     "execution_count": 14,
     "metadata": {},
     "output_type": "execute_result"
    }
   ],
   "source": [
    "len(sementic_split)"
   ]
  },
  {
   "cell_type": "code",
   "execution_count": 15,
   "id": "39cb4657-11fb-4a2d-8b84-271ed09beda4",
   "metadata": {},
   "outputs": [
    {
     "data": {
      "text/plain": [
       "'For example, the final paragraph is a good time to explain why this topic matters or to add your own opinion. It also helps to end with a thought-provoking sentence, such as an open-ended question, to give your audience something to think about after reading. Five-paragraph essay example\\nHere’s a five-paragraph essay example, so you can better understand how they work.'"
      ]
     },
     "execution_count": 15,
     "metadata": {},
     "output_type": "execute_result"
    }
   ],
   "source": [
    "sementic_split[1]"
   ]
  },
  {
   "cell_type": "code",
   "execution_count": 16,
   "id": "694910c3-8e73-4bc9-b255-b57b679f7d69",
   "metadata": {},
   "outputs": [
    {
     "data": {
      "text/plain": [
       "'In this example, you’ll notice a lot of the points we discussed earlier. The first sentence in the first paragraph is our thesis statement, which explains what this essay is about and the writer’s stance on the subject. Also in the first paragraph is the necessary background information for context, in this case a description of capybaras for readers who aren’t familiar with them. Notice how each of the three body paragraphs focuses on its own particular topic. The first discusses how rodents in general make good pets, and the second dispels some common rumors about capybaras as pets. The third paragraph directly addresses criticism of the writer’s point of view, a common tactic used in argumentative and persuasive essays to strengthen the writer’s argument. Last, the concluding paragraph reiterates the previous points and ties them together. Because the topic involves laws about keeping capybaras as pets, there’s a call to action about contacting lawmakers. The final sentence is written as a friendly send-off, leaving the reader at a high point. Five-paragraph essay FAQ\\nWhat is a five-paragraph essay? A five-paragraph essay is a basic form of essay that acts as a writing tool to teach structure. It’s common in schools for short assignments and writing practice. How is it structured? The five-paragraph essay structure consists of, in order: one introductory paragraph that introduces the main topic and states a thesis, three body paragraphs to support the thesis, and one concluding paragraph to wrap up the points made in the essay. Your writing, at its best.'"
      ]
     },
     "execution_count": 16,
     "metadata": {},
     "output_type": "execute_result"
    }
   ],
   "source": [
    "sementic_split[4]"
   ]
  },
  {
   "cell_type": "code",
   "execution_count": null,
   "id": "c451e836-3dcc-49f8-95f1-02552aba5def",
   "metadata": {},
   "outputs": [],
   "source": []
  }
 ],
 "metadata": {
  "kernelspec": {
   "display_name": "Python 3 (ipykernel)",
   "language": "python",
   "name": "python3"
  },
  "language_info": {
   "codemirror_mode": {
    "name": "ipython",
    "version": 3
   },
   "file_extension": ".py",
   "mimetype": "text/x-python",
   "name": "python",
   "nbconvert_exporter": "python",
   "pygments_lexer": "ipython3",
   "version": "3.12.4"
  }
 },
 "nbformat": 4,
 "nbformat_minor": 5
}
