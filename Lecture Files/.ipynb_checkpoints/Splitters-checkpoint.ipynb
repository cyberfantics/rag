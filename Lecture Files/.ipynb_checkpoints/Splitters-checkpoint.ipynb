{
 "cells": [
  {
   "cell_type": "markdown",
   "id": "466e5317-d45d-4a61-9d6a-59e046177a41",
   "metadata": {},
   "source": [
    "# Importing the packages for spliters"
   ]
  },
  {
   "cell_type": "code",
   "execution_count": 1,
   "id": "03766760-7289-4002-ab18-1d724f0b22cb",
   "metadata": {},
   "outputs": [],
   "source": [
    "from langchain.text_splitter import RecursiveCharacterTextSplitter, CharacterTextSplitter"
   ]
  },
  {
   "cell_type": "markdown",
   "id": "62cc42e7-aaab-4b7a-82e4-d5e89da11ad6",
   "metadata": {},
   "source": [
    "## `Chearacter Text Splitter`"
   ]
  },
  {
   "cell_type": "markdown",
   "id": "5c70490e-dee6-49ba-8e63-6204f85c6d97",
   "metadata": {},
   "source": [
    "### Define the chunks size"
   ]
  },
  {
   "cell_type": "code",
   "execution_count": 2,
   "id": "bbde934d-f21d-428c-88f1-9c26cbf9efd0",
   "metadata": {},
   "outputs": [],
   "source": [
    "# do some experiment with different chunk size and overlap\n",
    "chunk_size = 26\n",
    "chunk_overlap = 4"
   ]
  },
  {
   "cell_type": "code",
   "execution_count": 3,
   "id": "8bd9e633-9c22-4689-8240-1891287750c0",
   "metadata": {},
   "outputs": [],
   "source": [
    "c_splitter = CharacterTextSplitter(\n",
    "    chunk_size = chunk_size,\n",
    "    # separator = '\\n\\n',\n",
    "    chunk_overlap = chunk_overlap\n",
    ")"
   ]
  },
  {
   "cell_type": "markdown",
   "id": "28e41241-1474-4747-b25a-881fd7c2a457",
   "metadata": {},
   "source": [
    "##### `Note:` In Character text splitter, by default spearator is paragraph, and when the chunk size complete, It check whether at that position paragraph is completed or not, if yes, it split otherwise it increase the chunk size until paragraph is not completed. It is the limition of it b/c maybe it increase the chunk size to the limit which is the limit of chunk size of an NLP Model. Moreover we can only pass one separator to it."
   ]
  },
  {
   "cell_type": "markdown",
   "id": "e060d141-8305-43e6-ab66-f30f8ec50c1e",
   "metadata": {},
   "source": [
    "### `Recursive Text Splitter`"
   ]
  },
  {
   "cell_type": "code",
   "execution_count": 5,
   "id": "831b687c-31e7-4951-bdaa-0756790d8003",
   "metadata": {},
   "outputs": [],
   "source": [
    "r_splitter = RecursiveCharacterTextSplitter(\n",
    "    chunk_size = chunk_size,\n",
    "    separators = ['\\n','\\n\\n',' ', ''], # It takes a list of separator\n",
    "    chunk_overlap = chunk_overlap\n",
    ")"
   ]
  },
  {
   "cell_type": "code",
   "execution_count": null,
   "id": "cf220f1b-07da-4224-a5b1-6e7ce20b0785",
   "metadata": {},
   "outputs": [],
   "source": []
  },
  {
   "cell_type": "markdown",
   "id": "c7d92389-a2b6-4609-af81-cf044e9e2102",
   "metadata": {},
   "source": [
    "### Test splitters"
   ]
  },
  {
   "cell_type": "code",
   "execution_count": 21,
   "id": "16fe8144-ed26-4d11-b8b4-ab8de44a084c",
   "metadata": {},
   "outputs": [],
   "source": [
    "text = \"\"\"A quick brown fox jumps over the lazy dog.\n",
    "Greedy dog story.\n",
    "\n",
    "We don't forget, we don't forgive. Anonymous Hackerz\n",
    "        \"\"\""
   ]
  },
  {
   "cell_type": "code",
   "execution_count": 22,
   "id": "199045e3-b7bf-4041-ab45-f94a1c3fb5fd",
   "metadata": {},
   "outputs": [
    {
     "data": {
      "text/plain": [
       "['A quick brown fox jumps',\n",
       " 'over the lazy dog.',\n",
       " 'Greedy dog story.',\n",
       " \"We don't forget, we don't\",\n",
       " 'forgive. Anonymous',\n",
       " 'Hackerz']"
      ]
     },
     "execution_count": 22,
     "metadata": {},
     "output_type": "execute_result"
    }
   ],
   "source": [
    "r_splitter.split_text(text)"
   ]
  },
  {
   "cell_type": "code",
   "execution_count": 23,
   "id": "b0ef193f-af23-4732-b20d-d39b0d1c5ed9",
   "metadata": {},
   "outputs": [
    {
     "name": "stderr",
     "output_type": "stream",
     "text": [
      "Created a chunk of size 60, which is longer than the specified 26\n"
     ]
    },
    {
     "data": {
      "text/plain": [
       "['A quick brown fox jumps over the lazy dog.\\nGreedy dog story.',\n",
       " \"We don't forget, we don't forgive. Anonymous Hackerz\"]"
      ]
     },
     "execution_count": 23,
     "metadata": {},
     "output_type": "execute_result"
    }
   ],
   "source": [
    "c_splitter.split_text(text)"
   ]
  },
  {
   "cell_type": "markdown",
   "id": "f5612ef8-f6a4-4aca-8007-30d16601829a",
   "metadata": {},
   "source": [
    "##### If we change separator in Character Splitter from `\\n` to `''` it automatically create chunk size of given"
   ]
  },
  {
   "cell_type": "code",
   "execution_count": null,
   "id": "b9e32d55-78cc-4f1c-a243-bc1c7e7eca6a",
   "metadata": {},
   "outputs": [],
   "source": []
  }
 ],
 "metadata": {
  "kernelspec": {
   "display_name": "Python 3 (ipykernel)",
   "language": "python",
   "name": "python3"
  },
  "language_info": {
   "codemirror_mode": {
    "name": "ipython",
    "version": 3
   },
   "file_extension": ".py",
   "mimetype": "text/x-python",
   "name": "python",
   "nbconvert_exporter": "python",
   "pygments_lexer": "ipython3",
   "version": "3.12.4"
  }
 },
 "nbformat": 4,
 "nbformat_minor": 5
}
