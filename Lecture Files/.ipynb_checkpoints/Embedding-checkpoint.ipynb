{
 "cells": [
  {
   "cell_type": "markdown",
   "id": "97662745-6d46-4181-8d6e-f80afb924d79",
   "metadata": {},
   "source": [
    "## Load pdf through Loader"
   ]
  },
  {
   "cell_type": "code",
   "execution_count": 1,
   "id": "2572ab9c-a87b-4338-8891-dcd32ea84fb2",
   "metadata": {},
   "outputs": [],
   "source": [
    "from langchain_community.document_loaders import PyPDFLoader"
   ]
  },
  {
   "cell_type": "code",
   "execution_count": 2,
   "id": "5fa54576-b49b-49ef-9338-0facc3238c88",
   "metadata": {},
   "outputs": [],
   "source": [
    "loader = PyPDFLoader('dataset/patient health data analysis.pdf')"
   ]
  },
  {
   "cell_type": "code",
   "execution_count": 3,
   "id": "ecac24ac-3e0d-463e-8705-67f188ed9fea",
   "metadata": {},
   "outputs": [],
   "source": [
    "pages = loader.load_and_split()"
   ]
  },
  {
   "cell_type": "code",
   "execution_count": 4,
   "id": "b8b678ca-3c18-4bc6-a9f8-8ae950a6c0a6",
   "metadata": {},
   "outputs": [
    {
     "data": {
      "text/plain": [
       "33"
      ]
     },
     "execution_count": 4,
     "metadata": {},
     "output_type": "execute_result"
    }
   ],
   "source": [
    "len(pages)"
   ]
  },
  {
   "cell_type": "markdown",
   "id": "2b018a35-7e29-4ebb-aca6-5a14c26f3454",
   "metadata": {},
   "source": [
    "## Split in chunks through Splitter"
   ]
  },
  {
   "cell_type": "code",
   "execution_count": 5,
   "id": "5876233f-c0b3-4fd7-b8f8-5ee61f2faa08",
   "metadata": {},
   "outputs": [],
   "source": [
    "from langchain.text_splitter import RecursiveCharacterTextSplitter"
   ]
  },
  {
   "cell_type": "code",
   "execution_count": 6,
   "id": "e052620d-1a58-41b1-abd8-8b5c271626a9",
   "metadata": {},
   "outputs": [],
   "source": [
    "chunk_size = 30\n",
    "chunk_overlap = 4"
   ]
  },
  {
   "cell_type": "code",
   "execution_count": 7,
   "id": "050efdbf-d238-4d5c-ab08-58732b80072a",
   "metadata": {},
   "outputs": [],
   "source": [
    "r_splitter = RecursiveCharacterTextSplitter(\n",
    "    chunk_size=chunk_size,\n",
    "    chunk_overlap = chunk_overlap\n",
    ")"
   ]
  },
  {
   "cell_type": "code",
   "execution_count": 8,
   "id": "94935979-8d57-494a-a84f-9a87908c1b03",
   "metadata": {},
   "outputs": [],
   "source": [
    "chunk_list = []\n",
    "for page in pages:\n",
    "    chunks = r_splitter.split_text(page.page_content)\n",
    "    for chunk in chunks:\n",
    "        chunk_list.append(chunk)"
   ]
  },
  {
   "cell_type": "code",
   "execution_count": 9,
   "id": "9b7ecdac-06ef-4663-b31e-9c1e16cb5e69",
   "metadata": {},
   "outputs": [
    {
     "data": {
      "text/plain": [
       "1345"
      ]
     },
     "execution_count": 9,
     "metadata": {},
     "output_type": "execute_result"
    }
   ],
   "source": [
    "len(chunk_list)"
   ]
  },
  {
   "cell_type": "code",
   "execution_count": 11,
   "id": "81d5f909-4532-4564-b5b2-554ac1716d5f",
   "metadata": {},
   "outputs": [
    {
     "name": "stdout",
     "output_type": "stream",
     "text": [
      "['Team Alpha\\n2024HEALTH', 'DATA ANALYSIS\\nARTIFICIAL', 'INTELLIGENCE\\nDATE :', '24 August 2024PRESENTED TO :', 'Sir Muhammad\\nRizwan']\n"
     ]
    }
   ],
   "source": [
    "print(chunk_list[:5])"
   ]
  },
  {
   "cell_type": "code",
   "execution_count": 12,
   "id": "489ef597-b40a-4231-bfff-903ff3edd71d",
   "metadata": {},
   "outputs": [
    {
     "data": {
      "text/plain": [
       "'import numpy as np import'"
      ]
     },
     "execution_count": 12,
     "metadata": {},
     "output_type": "execute_result"
    }
   ],
   "source": [
    "chunk_list[100]"
   ]
  },
  {
   "cell_type": "code",
   "execution_count": 13,
   "id": "629055c4-50e4-497c-97cf-3c5ca521e4ed",
   "metadata": {},
   "outputs": [
    {
     "data": {
      "text/plain": [
       "'multiple subplots to provide'"
      ]
     },
     "execution_count": 13,
     "metadata": {},
     "output_type": "execute_result"
    }
   ],
   "source": [
    "chunk_list[1234]"
   ]
  },
  {
   "cell_type": "markdown",
   "id": "1af4e870-7c4e-44e3-99d9-16055d1ee09b",
   "metadata": {},
   "source": [
    "## Embedding"
   ]
  },
  {
   "cell_type": "markdown",
   "id": "c640b1fd-ed9f-48ab-87e6-b848654e038e",
   "metadata": {},
   "source": [
    "**Embeddings are a type of dense vector representation used to capture the sementic meaning of words, pharases, sentense or other types of data. They are widely used in NLP and other fields of machine learning to transform categorical data into neumerical form, which is more suitable for computational model**"
   ]
  },
  {
   "cell_type": "code",
   "execution_count": 16,
   "id": "016b38c2-abd5-4b51-a7f4-e53e18b3c58b",
   "metadata": {},
   "outputs": [],
   "source": [
    "# !pip install transformers langchain_huggingface"
   ]
  },
  {
   "cell_type": "code",
   "execution_count": 17,
   "id": "06270850-7a45-47f7-8432-3f249d556b92",
   "metadata": {},
   "outputs": [],
   "source": [
    "from langchain_huggingface import HuggingFaceEmbeddings"
   ]
  },
  {
   "cell_type": "code",
   "execution_count": 18,
   "id": "e612ec48-dd8d-41cb-8bcc-fa6abb684840",
   "metadata": {},
   "outputs": [
    {
     "name": "stderr",
     "output_type": "stream",
     "text": [
      "D:\\anaconda\\Lib\\site-packages\\sentence_transformers\\cross_encoder\\CrossEncoder.py:11: TqdmExperimentalWarning: Using `tqdm.autonotebook.tqdm` in notebook mode. Use `tqdm.tqdm` instead to force console mode (e.g. in jupyter console)\n",
      "  from tqdm.autonotebook import tqdm, trange\n"
     ]
    },
    {
     "name": "stdout",
     "output_type": "stream",
     "text": [
      "WARNING:tensorflow:From C:\\Users\\Mansoor\\AppData\\Roaming\\Python\\Python312\\site-packages\\tf_keras\\src\\losses.py:2976: The name tf.losses.sparse_softmax_cross_entropy is deprecated. Please use tf.compat.v1.losses.sparse_softmax_cross_entropy instead.\n",
      "\n"
     ]
    },
    {
     "data": {
      "application/vnd.jupyter.widget-view+json": {
       "model_id": "d4758bd8086d4075ad302a1f1778690e",
       "version_major": 2,
       "version_minor": 0
      },
      "text/plain": [
       "modules.json:   0%|          | 0.00/349 [00:00<?, ?B/s]"
      ]
     },
     "metadata": {},
     "output_type": "display_data"
    },
    {
     "name": "stderr",
     "output_type": "stream",
     "text": [
      "C:\\Users\\Mansoor\\AppData\\Roaming\\Python\\Python312\\site-packages\\huggingface_hub\\file_download.py:159: UserWarning: `huggingface_hub` cache-system uses symlinks by default to efficiently store duplicated files but your machine does not support them in C:\\Users\\Mansoor\\.cache\\huggingface\\hub\\models--BAAI--bge-small-en-v1.5. Caching files will still work but in a degraded version that might require more space on your disk. This warning can be disabled by setting the `HF_HUB_DISABLE_SYMLINKS_WARNING` environment variable. For more details, see https://huggingface.co/docs/huggingface_hub/how-to-cache#limitations.\n",
      "To support symlinks on Windows, you either need to activate Developer Mode or to run Python as an administrator. In order to see activate developer mode, see this article: https://docs.microsoft.com/en-us/windows/apps/get-started/enable-your-device-for-development\n",
      "  warnings.warn(message)\n"
     ]
    },
    {
     "data": {
      "application/vnd.jupyter.widget-view+json": {
       "model_id": "bc3b4fb73dc0438d8a94e18113164da3",
       "version_major": 2,
       "version_minor": 0
      },
      "text/plain": [
       "config_sentence_transformers.json:   0%|          | 0.00/124 [00:00<?, ?B/s]"
      ]
     },
     "metadata": {},
     "output_type": "display_data"
    },
    {
     "data": {
      "application/vnd.jupyter.widget-view+json": {
       "model_id": "b911eefcc0394bbc90dbd63b860d44a1",
       "version_major": 2,
       "version_minor": 0
      },
      "text/plain": [
       "README.md:   0%|          | 0.00/94.8k [00:00<?, ?B/s]"
      ]
     },
     "metadata": {},
     "output_type": "display_data"
    },
    {
     "data": {
      "application/vnd.jupyter.widget-view+json": {
       "model_id": "7588e53b0dc54ab491b52b06aba99248",
       "version_major": 2,
       "version_minor": 0
      },
      "text/plain": [
       "sentence_bert_config.json:   0%|          | 0.00/52.0 [00:00<?, ?B/s]"
      ]
     },
     "metadata": {},
     "output_type": "display_data"
    },
    {
     "data": {
      "application/vnd.jupyter.widget-view+json": {
       "model_id": "f615375ef59041a4b631ede3ec9c027f",
       "version_major": 2,
       "version_minor": 0
      },
      "text/plain": [
       "config.json:   0%|          | 0.00/743 [00:00<?, ?B/s]"
      ]
     },
     "metadata": {},
     "output_type": "display_data"
    },
    {
     "data": {
      "application/vnd.jupyter.widget-view+json": {
       "model_id": "45cfc38ae43545a2b7e56541e5ba6fca",
       "version_major": 2,
       "version_minor": 0
      },
      "text/plain": [
       "model.safetensors:   0%|          | 0.00/133M [00:00<?, ?B/s]"
      ]
     },
     "metadata": {},
     "output_type": "display_data"
    },
    {
     "data": {
      "application/vnd.jupyter.widget-view+json": {
       "model_id": "570c7a36782842eb8a7a8a3d49cb11e0",
       "version_major": 2,
       "version_minor": 0
      },
      "text/plain": [
       "tokenizer_config.json:   0%|          | 0.00/366 [00:00<?, ?B/s]"
      ]
     },
     "metadata": {},
     "output_type": "display_data"
    },
    {
     "data": {
      "application/vnd.jupyter.widget-view+json": {
       "model_id": "440523fb4c3845589595396d4cadf5b1",
       "version_major": 2,
       "version_minor": 0
      },
      "text/plain": [
       "vocab.txt:   0%|          | 0.00/232k [00:00<?, ?B/s]"
      ]
     },
     "metadata": {},
     "output_type": "display_data"
    },
    {
     "data": {
      "application/vnd.jupyter.widget-view+json": {
       "model_id": "a794bb3bc3314e3d860743becc93125b",
       "version_major": 2,
       "version_minor": 0
      },
      "text/plain": [
       "tokenizer.json:   0%|          | 0.00/711k [00:00<?, ?B/s]"
      ]
     },
     "metadata": {},
     "output_type": "display_data"
    },
    {
     "data": {
      "application/vnd.jupyter.widget-view+json": {
       "model_id": "90096e3a46e145e1b35afed927073e31",
       "version_major": 2,
       "version_minor": 0
      },
      "text/plain": [
       "special_tokens_map.json:   0%|          | 0.00/125 [00:00<?, ?B/s]"
      ]
     },
     "metadata": {},
     "output_type": "display_data"
    },
    {
     "data": {
      "application/vnd.jupyter.widget-view+json": {
       "model_id": "2106cad62c964e6d902ae6ec5a036bc8",
       "version_major": 2,
       "version_minor": 0
      },
      "text/plain": [
       "1_Pooling/config.json:   0%|          | 0.00/190 [00:00<?, ?B/s]"
      ]
     },
     "metadata": {},
     "output_type": "display_data"
    }
   ],
   "source": [
    "embed_model = HuggingFaceEmbeddings(model_name='BAAI/bge-small-en-v1.5')"
   ]
  },
  {
   "cell_type": "markdown",
   "id": "ca10e81e-08bb-43b6-af07-2eaf3d938d88",
   "metadata": {},
   "source": [
    "#### Practice to generate embedding"
   ]
  },
  {
   "cell_type": "code",
   "execution_count": 19,
   "id": "f443b4fa-b5e4-4934-8d0b-f59d6cf0033f",
   "metadata": {},
   "outputs": [],
   "source": [
    "embed = embed_model.embed_query(\"How are you, Mansoor\")"
   ]
  },
  {
   "cell_type": "code",
   "execution_count": 20,
   "id": "ee820021-e942-4f8c-9c90-89a1c91edc1f",
   "metadata": {},
   "outputs": [
    {
     "data": {
      "text/plain": [
       "384"
      ]
     },
     "execution_count": 20,
     "metadata": {},
     "output_type": "execute_result"
    }
   ],
   "source": [
    "len(embed)"
   ]
  },
  {
   "cell_type": "code",
   "execution_count": 22,
   "id": "1b770868-f490-4cf4-9483-81a7ae919ba3",
   "metadata": {},
   "outputs": [
    {
     "data": {
      "text/plain": [
       "[-0.011478287167847157,\n",
       " -0.0289846770465374,\n",
       " 0.036616817116737366,\n",
       " -0.05016962066292763,\n",
       " -0.029599890112876892]"
      ]
     },
     "execution_count": 22,
     "metadata": {},
     "output_type": "execute_result"
    }
   ],
   "source": [
    "embed[:5]"
   ]
  }
 ],
 "metadata": {
  "kernelspec": {
   "display_name": "Python 3 (ipykernel)",
   "language": "python",
   "name": "python3"
  },
  "language_info": {
   "codemirror_mode": {
    "name": "ipython",
    "version": 3
   },
   "file_extension": ".py",
   "mimetype": "text/x-python",
   "name": "python",
   "nbconvert_exporter": "python",
   "pygments_lexer": "ipython3",
   "version": "3.12.4"
  }
 },
 "nbformat": 4,
 "nbformat_minor": 5
}
